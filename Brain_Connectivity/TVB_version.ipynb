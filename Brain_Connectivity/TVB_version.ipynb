{
 "cells": [
  {
   "cell_type": "code",
   "execution_count": 8,
   "metadata": {},
   "outputs": [
    {
     "data": {
      "text/html": [
       "<style>.container { width:100% !important; }</style>"
      ],
      "text/plain": [
       "<IPython.core.display.HTML object>"
      ]
     },
     "metadata": {},
     "output_type": "display_data"
    }
   ],
   "source": [
    "from IPython.display import display, HTML\n",
    "display(HTML(\"<style>.container { width:100% !important; }</style>\"))"
   ]
  },
  {
   "cell_type": "code",
   "execution_count": 1,
   "metadata": {},
   "outputs": [],
   "source": [
    "import bct\n",
    "import pandas as pd\n",
    "import numpy as np\n",
    "import os\n",
    "import sys"
   ]
  },
  {
   "cell_type": "markdown",
   "metadata": {},
   "source": [
    "# importing and making packages관련 :\n",
    "https://stackoverflow.com/a/9049246/9042297  : 왜 (처음에) import utils 한 후에 utils.load_data하면 바로 안되는지(no package found라고 뜸)\n",
    "* solutions : \n",
    "    1. `__init__.py`안에다가, `from .import load_data`라고 해야한다 $\\rightarrow{}$ 나는 이걸 썼다\n",
    "    2. 또는, `import utils.load__data`라고 해도 된다\n",
    "\n"
   ]
  },
  {
   "cell_type": "markdown",
   "metadata": {},
   "source": [
    "# 0. Importing Module/Data"
   ]
  },
  {
   "cell_type": "code",
   "execution_count": 2,
   "metadata": {
    "scrolled": true
   },
   "outputs": [
    {
     "data": {
      "text/plain": [
       "['/scratch/connectome/dyhan316/TVB/REAL_RESEARCH/Brain_Connectivity',\n",
       " '/usr/lib/python38.zip',\n",
       " '/usr/lib/python3.8',\n",
       " '/usr/lib/python3.8/lib-dynload',\n",
       " '',\n",
       " '/home/connectome/dyhan316/.local/lib/python3.8/site-packages',\n",
       " '/scratch/connectome/dyhan316/TVB/TVB_showcase/virtual_aging_showcase_copy/virtual_ageing',\n",
       " '/usr/local/lib/python3.8/dist-packages',\n",
       " '/usr/lib/python3/dist-packages',\n",
       " '/scratch/connectome/dyhan316/TVB/REAL_RESEARCH']"
      ]
     },
     "execution_count": 2,
     "metadata": {},
     "output_type": "execute_result"
    }
   ],
   "source": [
    "#####IMPORTING utils module#####\n",
    "## so that we can import from one directory above's utils\n",
    "#https://blog.finxter.com/python-how-to-import-modules-from-another-folder/\n",
    "sys.path.append(\"/scratch/connectome/dyhan316/TVB/REAL_RESEARCH\")\n",
    "sys.path"
   ]
  },
  {
   "cell_type": "code",
   "execution_count": 13,
   "metadata": {},
   "outputs": [],
   "source": [
    "#####IMPORTING dataset/metadata and so on#####\n",
    "data_dir = '/storage/bigdata/ABCD/TVB/data'\n",
    "import utils #now imports becasue it looks at the last added sys path\n",
    "\n",
    "dataset = utils.load_data.ABCDDataset(data_dir)  #이제 된다\n",
    "subjects = dataset.list_subjects()\n",
    "meta_data = utils.load_metadata.metadata(data_dir)"
   ]
  },
  {
   "cell_type": "code",
   "execution_count": 14,
   "metadata": {},
   "outputs": [
    {
     "name": "stdout",
     "output_type": "stream",
     "text": [
      "['NDARINV0X4A2LKW', 'NDARINVRERRA7FD', 'NDARINV43M1L7PL', 'NDARINV6WH2N8P4', 'NDARINVFKFN7X0T', 'NDARINVYJETWGU1', 'NDARINVNUNMDE7M', 'NDARINVPUEXNZJU', 'NDARINVCYA7HWRK', 'NDARINVPXYXMXTH']\n",
      "[[ 0. 18.  1. ...  4.  0.  0.]\n",
      " [18.  0. 10. ...  0.  0.  0.]\n",
      " [ 1. 10.  0. ...  0.  0.  0.]\n",
      " ...\n",
      " [ 4.  0.  0. ...  0. 20. 47.]\n",
      " [ 0.  0.  0. ... 20.  0.  1.]\n",
      " [ 0.  0.  0. ... 47.  1.  0.]]\n"
     ]
    },
    {
     "data": {
      "text/html": [
       "<div>\n",
       "<style scoped>\n",
       "    .dataframe tbody tr th:only-of-type {\n",
       "        vertical-align: middle;\n",
       "    }\n",
       "\n",
       "    .dataframe tbody tr th {\n",
       "        vertical-align: top;\n",
       "    }\n",
       "\n",
       "    .dataframe thead th {\n",
       "        text-align: right;\n",
       "    }\n",
       "</style>\n",
       "<table border=\"1\" class=\"dataframe\">\n",
       "  <thead>\n",
       "    <tr style=\"text-align: right;\">\n",
       "      <th></th>\n",
       "      <th>Age</th>\n",
       "      <th>height</th>\n",
       "      <th>weight</th>\n",
       "      <th>BMI</th>\n",
       "      <th>vol</th>\n",
       "      <th>Sex</th>\n",
       "      <th>Education</th>\n",
       "      <th>income</th>\n",
       "      <th>married</th>\n",
       "      <th>race.ethnicity</th>\n",
       "      <th>abcd_site</th>\n",
       "      <th>morsex.1</th>\n",
       "      <th>morsex.2</th>\n",
       "      <th>ctsex.1</th>\n",
       "      <th>ctsex.2</th>\n",
       "      <th>morctsex.1</th>\n",
       "      <th>morctsex.2</th>\n",
       "    </tr>\n",
       "    <tr>\n",
       "      <th>ID_HBP</th>\n",
       "      <th></th>\n",
       "      <th></th>\n",
       "      <th></th>\n",
       "      <th></th>\n",
       "      <th></th>\n",
       "      <th></th>\n",
       "      <th></th>\n",
       "      <th></th>\n",
       "      <th></th>\n",
       "      <th></th>\n",
       "      <th></th>\n",
       "      <th></th>\n",
       "      <th></th>\n",
       "      <th></th>\n",
       "      <th></th>\n",
       "      <th></th>\n",
       "      <th></th>\n",
       "    </tr>\n",
       "  </thead>\n",
       "  <tbody>\n",
       "    <tr>\n",
       "      <th>NDARINVEFCVZYTR</th>\n",
       "      <td>130</td>\n",
       "      <td>56.500</td>\n",
       "      <td>118.000000</td>\n",
       "      <td>25.986060</td>\n",
       "      <td>1433652.836</td>\n",
       "      <td>Male</td>\n",
       "      <td>18</td>\n",
       "      <td>1</td>\n",
       "      <td>1</td>\n",
       "      <td>1</td>\n",
       "      <td>19</td>\n",
       "      <td>0.364884</td>\n",
       "      <td>0.635116</td>\n",
       "      <td>0.897505</td>\n",
       "      <td>0.102495</td>\n",
       "      <td>0.859503</td>\n",
       "      <td>0.140497</td>\n",
       "    </tr>\n",
       "    <tr>\n",
       "      <th>NDARINVJHX361ZP</th>\n",
       "      <td>119</td>\n",
       "      <td>51.875</td>\n",
       "      <td>65.333333</td>\n",
       "      <td>17.067658</td>\n",
       "      <td>1552107.042</td>\n",
       "      <td>Female</td>\n",
       "      <td>18</td>\n",
       "      <td>9</td>\n",
       "      <td>3</td>\n",
       "      <td>1</td>\n",
       "      <td>20</td>\n",
       "      <td>0.015770</td>\n",
       "      <td>0.984230</td>\n",
       "      <td>0.087163</td>\n",
       "      <td>0.912837</td>\n",
       "      <td>0.039306</td>\n",
       "      <td>0.960694</td>\n",
       "    </tr>\n",
       "    <tr>\n",
       "      <th>NDARINVNY4HU8H1</th>\n",
       "      <td>114</td>\n",
       "      <td>54.500</td>\n",
       "      <td>94.750000</td>\n",
       "      <td>22.425469</td>\n",
       "      <td>1600464.137</td>\n",
       "      <td>Female</td>\n",
       "      <td>18</td>\n",
       "      <td>10</td>\n",
       "      <td>3</td>\n",
       "      <td>1</td>\n",
       "      <td>9</td>\n",
       "      <td>0.214075</td>\n",
       "      <td>0.785925</td>\n",
       "      <td>0.792755</td>\n",
       "      <td>0.207245</td>\n",
       "      <td>0.050093</td>\n",
       "      <td>0.949907</td>\n",
       "    </tr>\n",
       "    <tr>\n",
       "      <th>NDARINV22C4YKXN</th>\n",
       "      <td>111</td>\n",
       "      <td>51.000</td>\n",
       "      <td>50.500000</td>\n",
       "      <td>13.649173</td>\n",
       "      <td>1423327.367</td>\n",
       "      <td>Female</td>\n",
       "      <td>18</td>\n",
       "      <td>10</td>\n",
       "      <td>1</td>\n",
       "      <td>1</td>\n",
       "      <td>9</td>\n",
       "      <td>0.185170</td>\n",
       "      <td>0.814830</td>\n",
       "      <td>0.596674</td>\n",
       "      <td>0.403326</td>\n",
       "      <td>0.455478</td>\n",
       "      <td>0.544522</td>\n",
       "    </tr>\n",
       "    <tr>\n",
       "      <th>NDARINVVX605DH1</th>\n",
       "      <td>114</td>\n",
       "      <td>52.750</td>\n",
       "      <td>70.000000</td>\n",
       "      <td>17.685137</td>\n",
       "      <td>1474259.573</td>\n",
       "      <td>Female</td>\n",
       "      <td>18</td>\n",
       "      <td>7</td>\n",
       "      <td>1</td>\n",
       "      <td>1</td>\n",
       "      <td>16</td>\n",
       "      <td>0.004610</td>\n",
       "      <td>0.995390</td>\n",
       "      <td>0.003111</td>\n",
       "      <td>0.996889</td>\n",
       "      <td>0.002103</td>\n",
       "      <td>0.997897</td>\n",
       "    </tr>\n",
       "  </tbody>\n",
       "</table>\n",
       "</div>"
      ],
      "text/plain": [
       "                 Age  height      weight        BMI          vol     Sex  \\\n",
       "ID_HBP                                                                     \n",
       "NDARINVEFCVZYTR  130  56.500  118.000000  25.986060  1433652.836    Male   \n",
       "NDARINVJHX361ZP  119  51.875   65.333333  17.067658  1552107.042  Female   \n",
       "NDARINVNY4HU8H1  114  54.500   94.750000  22.425469  1600464.137  Female   \n",
       "NDARINV22C4YKXN  111  51.000   50.500000  13.649173  1423327.367  Female   \n",
       "NDARINVVX605DH1  114  52.750   70.000000  17.685137  1474259.573  Female   \n",
       "\n",
       "                 Education  income  married  race.ethnicity  abcd_site  \\\n",
       "ID_HBP                                                                   \n",
       "NDARINVEFCVZYTR         18       1        1               1         19   \n",
       "NDARINVJHX361ZP         18       9        3               1         20   \n",
       "NDARINVNY4HU8H1         18      10        3               1          9   \n",
       "NDARINV22C4YKXN         18      10        1               1          9   \n",
       "NDARINVVX605DH1         18       7        1               1         16   \n",
       "\n",
       "                 morsex.1  morsex.2   ctsex.1   ctsex.2  morctsex.1  \\\n",
       "ID_HBP                                                                \n",
       "NDARINVEFCVZYTR  0.364884  0.635116  0.897505  0.102495    0.859503   \n",
       "NDARINVJHX361ZP  0.015770  0.984230  0.087163  0.912837    0.039306   \n",
       "NDARINVNY4HU8H1  0.214075  0.785925  0.792755  0.207245    0.050093   \n",
       "NDARINV22C4YKXN  0.185170  0.814830  0.596674  0.403326    0.455478   \n",
       "NDARINVVX605DH1  0.004610  0.995390  0.003111  0.996889    0.002103   \n",
       "\n",
       "                 morctsex.2  \n",
       "ID_HBP                       \n",
       "NDARINVEFCVZYTR    0.140497  \n",
       "NDARINVJHX361ZP    0.960694  \n",
       "NDARINVNY4HU8H1    0.949907  \n",
       "NDARINV22C4YKXN    0.544522  \n",
       "NDARINVVX605DH1    0.997897  "
      ]
     },
     "execution_count": 14,
     "metadata": {},
     "output_type": "execute_result"
    }
   ],
   "source": [
    "##looking at some examples\n",
    "print(subjects[:10])\n",
    "print(dataset.load_sc(subjects[0]))\n",
    "meta_data.head()"
   ]
  },
  {
   "cell_type": "markdown",
   "metadata": {},
   "source": [
    "LOOK AT http://localhost:11111/notebooks/TVB/TVB_showcase/virtual_aging_showcase/virtual_ageing/notebooks/1_BNM_for_resting_state.ipynb\n",
    "and http://localhost:11111/notebooks/TVB/REAL_RESEARCH/Brain_Connectivity/Stella_code_BCT.ipynb\n",
    "and http://localhost:11111/notebooks/TVB/virtual_aging_brain/notebooks/01_vab_github_sc_investigation.ipynb (intra-SC masking and so on이 여기다가 구현되어있다)\n"
   ]
  },
  {
   "cell_type": "code",
   "execution_count": null,
   "metadata": {},
   "outputs": [],
   "source": []
  }
 ],
 "metadata": {
  "kernelspec": {
   "display_name": "Python 3 (ipykernel)",
   "language": "python",
   "name": "python3"
  },
  "language_info": {
   "codemirror_mode": {
    "name": "ipython",
    "version": 3
   },
   "file_extension": ".py",
   "mimetype": "text/x-python",
   "name": "python",
   "nbconvert_exporter": "python",
   "pygments_lexer": "ipython3",
   "version": "3.8.10"
  }
 },
 "nbformat": 4,
 "nbformat_minor": 2
}
